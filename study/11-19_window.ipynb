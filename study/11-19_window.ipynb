{
  "nbformat": 4,
  "nbformat_minor": 0,
  "metadata": {
    "colab": {
      "provenance": [],
      "authorship_tag": "ABX9TyNxTWymrRkh/Fc4max8mFZx",
      "include_colab_link": true
    },
    "kernelspec": {
      "name": "python3",
      "display_name": "Python 3"
    },
    "language_info": {
      "name": "python"
    }
  },
  "cells": [
    {
      "cell_type": "markdown",
      "metadata": {
        "id": "view-in-github",
        "colab_type": "text"
      },
      "source": [
        "<a href=\"https://colab.research.google.com/github/youngbo2/dartb/blob/main/study/11-19_window.ipynb\" target=\"_parent\"><img src=\"https://colab.research.google.com/assets/colab-badge.svg\" alt=\"Open In Colab\"/></a>"
      ]
    },
    {
      "cell_type": "markdown",
      "source": [
        "https://www.acmicpc.net/problem/12891"
      ],
      "metadata": {
        "id": "op1eDfx51CaN"
      }
    },
    {
      "cell_type": "markdown",
      "source": [
        "첫 번째 줄에 민호가 임의로 만든 DNA 문자열 길이 |S|와 비밀번호로 사용할 부분문자열의 길이 |P| 가 주어진다. (1 ≤ |P| ≤ |S| ≤ 1,000,000)\n",
        "\n",
        "두번 째 줄에는 민호가 임의로 만든 DNA 문자열이 주어진다.\n",
        "\n",
        "세번 째 줄에는 부분문자열에 포함되어야 할 {‘A’, ‘C’, ‘G’, ‘T’} 의 최소 개수가 공백을 구분으로 주어진다. 각각의 수는 |S| 보다 작거나 같은 음이 아닌 정수이며 총 합은 |S| 보다 작거나 같음이 보장된다."
      ],
      "metadata": {
        "id": "-6PUGAogK5W1"
      }
    },
    {
      "cell_type": "code",
      "source": [
        "s, p = map(int, input().split())\n",
        "d = input()\n",
        "l = list(map(int, input().split()))\n",
        "answer = 0\n",
        "comp = [\"A\",\"C\",\"G\",\"T\"]\n",
        "\n",
        "def subt(a):\n",
        "    l[comp.index(a)] -= 1\n",
        "\n",
        "def add(a):\n",
        "    l[comp.index(a)] += 1\n",
        "\n",
        "for i in range(p-1):\n",
        "    subt(d[i])\n",
        "\n",
        "for j in range(s-p+1):\n",
        "    subt(d[p+j-1])\n",
        "    if max(l) < 1:\n",
        "        answer += 1\n",
        "    add(d[j])\n",
        "\n",
        "print(answer)"
      ],
      "metadata": {
        "colab": {
          "base_uri": "https://localhost:8080/"
        },
        "id": "lhF9itTf-n29",
        "outputId": "e7018326-9799-47c2-f88d-83e2db75c33d"
      },
      "execution_count": 17,
      "outputs": [
        {
          "output_type": "stream",
          "name": "stdout",
          "text": [
            "4 2\n",
            "GATA\n",
            "1 0 0 1\n",
            "2\n"
          ]
        }
      ]
    },
    {
      "cell_type": "code",
      "source": [
        "s,p=map(int,input().split())\n",
        "d=input()\n",
        "l=list(map(int,input().split()))\n",
        "r=0\n",
        "c=\"ACGT\"\n",
        "def o(a):l[c.index(a)]-=1\n",
        "def x(a):l[c.index(a)]+=1\n",
        "for i in range(p-1):o(d[i])\n",
        "for j in range(s-p+1):\n",
        "    o(d[p+j-1])\n",
        "    if max(l)<1:r+=1\n",
        "    x(d[j])\n",
        "print(r)"
      ],
      "metadata": {
        "colab": {
          "base_uri": "https://localhost:8080/"
        },
        "id": "hE-wm2D5PqWH",
        "outputId": "c7ab3401-a3f7-476b-aa4c-c5aed56981e3"
      },
      "execution_count": 24,
      "outputs": [
        {
          "output_type": "stream",
          "name": "stdout",
          "text": [
            "4 2\n",
            "GATA\n",
            "1 0 0 1\n",
            "2\n"
          ]
        }
      ]
    },
    {
      "cell_type": "markdown",
      "source": [
        "https://www.acmicpc.net/problem/21921\n",
        "\n",
        "입력\n",
        "\n",
        ">첫째 줄에 블로그를 시작하고 지난 일수\n",
        "$N$와\n",
        "$X$가 공백으로 구분되어 주어진다.\n",
        "\n",
        ">둘째 줄에는 블로그 시작\n",
        "$1$일차부터\n",
        "$N$일차까지 하루 방문자 수가 공백으로 구분되어 주어진다.\n",
        "\n",
        "출력\n",
        "\n",
        ">첫째 줄에\n",
        "$X$일 동안 가장 많이 들어온 방문자 수를 출력한다. 만약 최대 방문자 수가 0명이라면 SAD를 출력한다.\n",
        "\n",
        ">만약 최대 방문자 수가 0명이 아닌 경우 둘째 줄에 기간이 몇 개 있는지 출력한다."
      ],
      "metadata": {
        "id": "mXhZponHUpp2"
      }
    },
    {
      "cell_type": "code",
      "source": [
        "n,x = map(int, input().split())\n",
        "c = list(map(int, input().split()))\n",
        "arr = []\n",
        "s = []\n",
        "for i in range(n-x+1):\n",
        "    arr = c[i:x+i]\n",
        "    s.append(sum(arr))\n",
        "if max(s) == 0:\n",
        "    print(\"SAD\")\n",
        "else:\n",
        "    print(max(s))\n",
        "    print(s.count(max(s)))"
      ],
      "metadata": {
        "colab": {
          "base_uri": "https://localhost:8080/"
        },
        "id": "cRC5TOZcU3uE",
        "outputId": "d7667395-9460-4170-eb86-7c467ae7a47e"
      },
      "execution_count": 38,
      "outputs": [
        {
          "output_type": "stream",
          "name": "stdout",
          "text": [
            "5 3\n",
            "0 0 0 0 0\n",
            "SAD\n"
          ]
        }
      ]
    },
    {
      "cell_type": "code",
      "source": [
        "n,x = map(int, input().split())\n",
        "c = list(map(int, input().split()))\n",
        "s = sum(c[:x-1])\n",
        "b = 0\n",
        "t = 0\n",
        "for i in range(n-x+1):\n",
        "    s += c[i+x-1]\n",
        "    if b < s:\n",
        "        b = s\n",
        "        t = 1\n",
        "    elif b == s:\n",
        "        t += 1\n",
        "    s -= c[i]\n",
        "if b == 0:\n",
        "    print(\"SAD\")\n",
        "else:\n",
        "    print(b)\n",
        "    print(t)"
      ],
      "metadata": {
        "colab": {
          "base_uri": "https://localhost:8080/"
        },
        "id": "d2qpBhrVaaNO",
        "outputId": "2dda1d65-57ce-41bf-85c6-db92753ba84c"
      },
      "execution_count": 42,
      "outputs": [
        {
          "output_type": "stream",
          "name": "stdout",
          "text": [
            "5 2\n",
            "1 4 2 5 1\n",
            "7\n",
            "1\n"
          ]
        }
      ]
    },
    {
      "cell_type": "code",
      "source": [],
      "metadata": {
        "id": "TZfvCaivcxSa"
      },
      "execution_count": null,
      "outputs": []
    }
  ]
}